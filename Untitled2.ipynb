{
 "cells": [
  {
   "cell_type": "code",
   "execution_count": 11,
   "id": "0000557e-f826-453d-9128-1bcae622de9f",
   "metadata": {},
   "outputs": [],
   "source": [
    "import math\n",
    "\n",
    "def tao_do_thi_co_huong_tu_tap_tin():\n",
    "    with open('do_thi_co_huong.txt') as f:\n",
    "        so_luong_dinh = int(f.readline().strip())\n",
    "        cac_dong = f.readlines()\n",
    "\n",
    "    # Tạo ma trận kề với trọng số ban đầu là 0\n",
    "    do_thi = [[0 for _ in range(so_luong_dinh)] for _ in range(so_luong_dinh)]\n",
    "\n",
    "    for dong in cac_dong:\n",
    "        ds_gia_tri = dong.strip().split()\n",
    "        if len(ds_gia_tri) != 3:\n",
    "            continue\n",
    "        dong = int(ds_gia_tri[0])\n",
    "        cot = int(ds_gia_tri[1])\n",
    "        khoang_cach = int(ds_gia_tri[2])\n",
    "        do_thi[dong][cot] = khoang_cach\n",
    "\n",
    "    return do_thi\n",
    "# End def\n",
    "\n",
    "def khoang_cach_ngan_nhat(ds_khoang_cach, ds_dinh_cay_ngan_nhat):\n",
    "    nho_nhat = math.inf\n",
    "    dinh_nho_nhat = -1  # Chọn -1 để dễ kiểm tra lỗi\n",
    "\n",
    "    for dinh in range(len(ds_khoang_cach)):\n",
    "        if not ds_dinh_cay_ngan_nhat[dinh] and ds_khoang_cach[dinh] < nho_nhat:\n",
    "            nho_nhat = ds_khoang_cach[dinh]\n",
    "            dinh_nho_nhat = dinh\n",
    "\n",
    "    return dinh_nho_nhat\n",
    "# End def\n",
    "def lay_duong_di(ds_dinh_truoc, dinh_dich):\n",
    "    ds_dinh_di_qua = [dinh_dich]\n",
    "    dinh = dinh_dich\n",
    "\n",
    "    while True:\n",
    "        dinh = ds_dinh_truoc[dinh]\n",
    "        if dinh is None:\n",
    "            break\n",
    "        ds_dinh_di_qua.insert(0, dinh)\n",
    "\n",
    "    # Chuyển các đỉnh thành chuỗi và nối lại bằng dấu '->'\n",
    "    ds_dinh_di_qua = [str(x) for x in ds_dinh_di_qua]\n",
    "    return ' -> '.join(ds_dinh_di_qua)\n",
    "def dijkstra(do_thi, dinh_nguon, dinh_dich):\n",
    "    so_luong_dinh = len(do_thi)\n",
    "\n",
    "    # Bước 1: Khởi tạo\n",
    "    ds_khoang_cach = [math.inf] * so_luong_dinh\n",
    "    ds_khoang_cach[dinh_nguon] = 0\n",
    "\n",
    "    ds_dinh_truoc = [None] * so_luong_dinh\n",
    "    ds_dinh_cay_ngan_nhat = [False] * so_luong_dinh\n",
    "\n",
    "    for _ in range(so_luong_dinh):\n",
    "        x = khoang_cach_ngan_nhat(ds_khoang_cach, ds_dinh_cay_ngan_nhat)\n",
    "\n",
    "        if x == -1:  # Không còn đỉnh nào có thể mở rộng\n",
    "            print(f'Không có đường đi từ đỉnh {dinh_nguon} đến đỉnh {dinh_dich}.')\n",
    "            return\n",
    "\n",
    "        ds_dinh_cay_ngan_nhat[x] = True\n",
    "\n",
    "        if x == dinh_dich:\n",
    "            print('Tìm thấy đường đi ngắn nhất!')\n",
    "            duong_di = lay_duong_di(ds_dinh_truoc, dinh_dich)\n",
    "            thong_bao = f'Từ đỉnh {dinh_nguon} đến đỉnh {dinh_dich} : ' \\\n",
    "                        + duong_di + ' : ' + str(ds_khoang_cach[dinh_dich])\n",
    "            print(thong_bao)\n",
    "            return\n",
    "\n",
    "        for y in range(so_luong_dinh):\n",
    "            if not ds_dinh_cay_ngan_nhat[y] and do_thi[x][y] > 0:\n",
    "                if ds_khoang_cach[y] > ds_khoang_cach[x] + do_thi[x][y]:\n",
    "                    ds_khoang_cach[y] = ds_khoang_cach[x] + do_thi[x][y]\n",
    "                    ds_dinh_truoc[y] = x\n",
    "    # Nếu kết thúc vòng lặp mà không tìm ra đích\n",
    "    print(f'Không tìm thấy đường đi từ đỉnh {dinh_nguon} đến đỉnh {dinh_dich}.')\n"
   ]
  },
  {
   "cell_type": "code",
   "execution_count": 13,
   "id": "cc5d95f3-a28b-48ab-aa8b-d929aafa6296",
   "metadata": {},
   "outputs": [
    {
     "name": "stdout",
     "output_type": "stream",
     "text": [
      "Số lượng đỉnh trong đồ thị: 6\n"
     ]
    },
    {
     "name": "stdin",
     "output_type": "stream",
     "text": [
      "Nhập đỉnh nguồn:  0\n",
      "Nhập đỉnh đích:  5\n"
     ]
    },
    {
     "name": "stdout",
     "output_type": "stream",
     "text": [
      "Tìm thấy đường đi ngắn nhất!\n",
      "Từ đỉnh 0 đến đỉnh 5 : 0 -> 3 -> 4 -> 2 -> 5 : 9\n"
     ]
    }
   ],
   "source": [
    "def main():\n",
    "    do_thi = tao_do_thi_co_huong_tu_tap_tin()\n",
    "    so_luong_dinh = len(do_thi)\n",
    "    print(f\"Số lượng đỉnh trong đồ thị: {so_luong_dinh}\")\n",
    "\n",
    "    try:\n",
    "        dinh_nguon = int(input('Nhập đỉnh nguồn: '))\n",
    "        dinh_dich = int(input('Nhập đỉnh đích: '))\n",
    "    except ValueError:\n",
    "        print(\"Vui lòng nhập số nguyên.\")\n",
    "        return\n",
    "\n",
    "    if dinh_nguon in range(so_luong_dinh) and dinh_dich in range(so_luong_dinh):\n",
    "        dijkstra(do_thi, dinh_nguon, dinh_dich)\n",
    "    else:\n",
    "        print(\"Đỉnh nguồn hoặc đỉnh đích không hợp lệ.\")\n",
    "# End def\n",
    "\n",
    "if __name__ == '__main__':\n",
    "    main()\n"
   ]
  },
  {
   "cell_type": "code",
   "execution_count": 15,
   "id": "3d670536-bd6f-4765-8fe7-c05883cabff2",
   "metadata": {},
   "outputs": [
    {
     "name": "stdout",
     "output_type": "stream",
     "text": [
      "Giá trị 25 được tìm thấy tại vị trí 5\n"
     ]
    }
   ],
   "source": [
    "def tim_kiem_nhi_phan(a, x):\n",
    "    left = 0\n",
    "    right = len(a) - 1\n",
    "\n",
    "    while left <= right:\n",
    "        mid = (left + right) // 2\n",
    "        if a[mid] == x:\n",
    "            return mid  # Tìm thấy, trả về vị trí\n",
    "        elif a[mid] < x:\n",
    "            left = mid + 1\n",
    "        else:\n",
    "            right = mid - 1\n",
    "\n",
    "    return -1  # Không tìm thấy\n",
    "\n",
    "# Dữ liệu\n",
    "a = [4, 6, 10, 15, 21, 25, 30, 36, 50]\n",
    "x = 25\n",
    "\n",
    "# Gọi hàm\n",
    "vi_tri = tim_kiem_nhi_phan(a, x)\n",
    "\n",
    "# Xuất kết quả\n",
    "if vi_tri != -1:\n",
    "    print(f\"Giá trị {x} được tìm thấy tại vị trí {vi_tri}\")\n",
    "else:\n",
    "    print(f\"Không tìm thấy giá trị {x} trong mảng\")\n"
   ]
  },
  {
   "cell_type": "code",
   "execution_count": 17,
   "id": "1141ba64-8646-4292-85b7-f8d41e89f3ac",
   "metadata": {},
   "outputs": [
    {
     "name": "stdout",
     "output_type": "stream",
     "text": [
      "Danh sách được tạo: [19, 24, 20, 14, 8, 33, 4, 41, 15, 99, 96, 75, 61, 17, 71, 87, 93, 1, 38, 49]\n"
     ]
    },
    {
     "name": "stdin",
     "output_type": "stream",
     "text": [
      "Nhập giá trị cần tìm:  1\n"
     ]
    },
    {
     "name": "stdout",
     "output_type": "stream",
     "text": [
      "Giá trị 1 được tìm thấy tại vị trí 17.\n"
     ]
    }
   ],
   "source": [
    "import random\n",
    "\n",
    "def main():\n",
    "    # 1. Sản sinh danh sách 20 số nguyên ngẫu nhiên từ 0 đến 99\n",
    "    danh_sach = [random.randint(0, 99) for _ in range(20)]\n",
    "    print(\"Danh sách được tạo:\", danh_sach)\n",
    "\n",
    "    # 2. Nhập giá trị cần tìm\n",
    "    try:\n",
    "        x = int(input(\"Nhập giá trị cần tìm: \"))\n",
    "    except ValueError:\n",
    "        print(\"Giá trị nhập vào không hợp lệ.\")\n",
    "        return\n",
    "\n",
    "    # 3. Tìm kiếm tuần tự\n",
    "    vi_tri = -1\n",
    "    for i in range(len(danh_sach)):\n",
    "        if danh_sach[i] == x:\n",
    "            vi_tri = i\n",
    "            break\n",
    "\n",
    "    # 4. In kết quả\n",
    "    if vi_tri != -1:\n",
    "        print(f\"Giá trị {x} được tìm thấy tại vị trí {vi_tri}.\")\n",
    "    else:\n",
    "        print(f\"Không tìm thấy giá trị {x} trong danh sách.\")\n",
    "\n",
    "# Gọi hàm chính\n",
    "if __name__ == \"__main__\":\n",
    "    main()\n"
   ]
  },
  {
   "cell_type": "code",
   "execution_count": 21,
   "id": "268315ed-7eb0-4b2a-8cf6-b411913b508c",
   "metadata": {},
   "outputs": [
    {
     "name": "stdout",
     "output_type": "stream",
     "text": [
      "Giá trị 1 được tìm thấy tại vị trí 0.\n"
     ]
    }
   ],
   "source": [
    "def tim_kiem_nhi_phan(a, x):\n",
    "    left = 0\n",
    "    right = len(a) - 1\n",
    "\n",
    "    while left <= right:\n",
    "        mid = (left + right) // 2\n",
    "        if a[mid] == x:\n",
    "            return mid  # Tìm thấy\n",
    "        elif a[mid] < x:\n",
    "            left = mid + 1\n",
    "        else:\n",
    "            right = mid - 1\n",
    "\n",
    "    return -1  # Không tìm thấy\n",
    "\n",
    "# Dữ liệu bài toán\n",
    "a = [1, 2, 4, 5, 6, 8, 13, 15, 20]\n",
    "x = 1\n",
    "\n",
    "# Gọi hàm\n",
    "vi_tri = tim_kiem_nhi_phan(a, x)\n",
    "\n",
    "# In kết quả\n",
    "if vi_tri != -1:\n",
    "    print(f\"Giá trị {x} được tìm thấy tại vị trí {vi_tri}.\")\n",
    "else:\n",
    "    print(f\"Không tìm thấy giá trị {x} trong mảng.\")\n"
   ]
  },
  {
   "cell_type": "code",
   "execution_count": 23,
   "id": "3a3d8160-c3e0-42fb-84bc-1ed210e58ea5",
   "metadata": {},
   "outputs": [
    {
     "name": "stdout",
     "output_type": "stream",
     "text": [
      "Danh sách tăng dần được tạo: [0, 4, 10, 11, 12, 19, 22, 27, 33, 40, 44, 46, 50, 54, 63, 66, 73, 76, 79, 88]\n"
     ]
    },
    {
     "name": "stdin",
     "output_type": "stream",
     "text": [
      "Nhập giá trị cần tìm:  88\n"
     ]
    },
    {
     "name": "stdout",
     "output_type": "stream",
     "text": [
      "Giá trị 88 được tìm thấy tại vị trí 19.\n"
     ]
    }
   ],
   "source": [
    "import random\n",
    "\n",
    "def tao_danh_sach_tang_dan(n, bat_dau=0, buoc_toi_thieu=1, buoc_toi_da=10):\n",
    "    danh_sach = [bat_dau + random.randint(0, buoc_toi_da)]\n",
    "    for _ in range(1, n):\n",
    "        buoc = random.randint(buoc_toi_thieu, buoc_toi_da)\n",
    "        danh_sach.append(danh_sach[-1] + buoc)\n",
    "    return danh_sach\n",
    "\n",
    "def tim_kiem_nhi_phan(a, x):\n",
    "    left = 0\n",
    "    right = len(a) - 1\n",
    "    while left <= right:\n",
    "        mid = (left + right) // 2\n",
    "        if a[mid] == x:\n",
    "            return mid\n",
    "        elif a[mid] < x:\n",
    "            left = mid + 1\n",
    "        else:\n",
    "            right = mid - 1\n",
    "    return -1\n",
    "\n",
    "def main():\n",
    "    # Tạo danh sách 20 số nguyên tăng dần\n",
    "    danh_sach = tao_danh_sach_tang_dan(20)\n",
    "    print(\"Danh sách tăng dần được tạo:\", danh_sach)\n",
    "\n",
    "    try:\n",
    "        x = int(input(\"Nhập giá trị cần tìm: \"))\n",
    "    except ValueError:\n",
    "        print(\"Giá trị không hợp lệ.\")\n",
    "        return\n",
    "\n",
    "    vi_tri = tim_kiem_nhi_phan(danh_sach, x)\n",
    "    if vi_tri != -1:\n",
    "        print(f\"Giá trị {x} được tìm thấy tại vị trí {vi_tri}.\")\n",
    "    else:\n",
    "        print(f\"Không tìm thấy giá trị {x} trong danh sách.\")\n",
    "\n",
    "# Gọi chương trình\n",
    "if __name__ == '__main__':\n",
    "    main()\n",
    "\n",
    "\n"
   ]
  },
  {
   "cell_type": "code",
   "execution_count": 25,
   "id": "0faf3122-c6be-4f50-9e87-b870a5a65689",
   "metadata": {},
   "outputs": [
    {
     "name": "stdout",
     "output_type": "stream",
     "text": [
      "Mảng ban đầu: [19, 13, 6, 7, 14, 15, 2, 10]\n",
      "Mảng sau khi sắp xếp nổi bọt: [2, 6, 7, 10, 13, 14, 15, 19]\n"
     ]
    }
   ],
   "source": [
    "def bubble_sort(a):\n",
    "    n = len(a)\n",
    "    for i in range(n - 1):\n",
    "        for j in range(n - 1 - i):\n",
    "            if a[j] > a[j + 1]:\n",
    "                a[j], a[j + 1] = a[j + 1], a[j]  # Đổi chỗ\n",
    "    return a\n",
    "\n",
    "# Mảng đầu vào\n",
    "A = [19, 13, 6, 7, 14, 15, 2, 10]\n",
    "print(\"Mảng ban đầu:\", A)\n",
    "\n",
    "# Sắp xếp\n",
    "A_sap_xep = bubble_sort(A.copy())\n",
    "print(\"Mảng sau khi sắp xếp nổi bọt:\", A_sap_xep)\n"
   ]
  },
  {
   "cell_type": "code",
   "execution_count": 27,
   "id": "06f10cc6-8192-4f1c-8acd-b08c1c0064c7",
   "metadata": {},
   "outputs": [
    {
     "name": "stdout",
     "output_type": "stream",
     "text": [
      "Mảng ban đầu: [60, 23, 6, 20, 66, 58, 9, 37, 24, 77, 18, 5, 9, 6, 19]\n",
      "Mảng sau khi sắp xếp nổi bọt: [5, 6, 6, 9, 9, 18, 19, 20, 23, 24, 37, 58, 60, 66, 77]\n"
     ]
    }
   ],
   "source": [
    "import random\n",
    "\n",
    "def bubble_sort(a):\n",
    "    n = len(a)\n",
    "    for i in range(n - 1):\n",
    "        for j in range(n - 1 - i):\n",
    "            if a[j] > a[j + 1]:\n",
    "                a[j], a[j + 1] = a[j + 1], a[j]  # Hoán đổi\n",
    "    return a\n",
    "\n",
    "def main():\n",
    "    # Bước 1: Tạo danh sách 15 số nguyên ngẫu nhiên từ 0 đến 99\n",
    "    danh_sach = [random.randint(0, 99) for _ in range(15)]\n",
    "    print(\"Mảng ban đầu:\", danh_sach)\n",
    "\n",
    "    # Bước 2: Sắp xếp bằng Bubble Sort\n",
    "    bubble_sort(danh_sach)\n",
    "    print(\"Mảng sau khi sắp xếp nổi bọt:\", danh_sach)\n",
    "\n",
    "# Chạy chương trình\n",
    "if __name__ == \"__main__\":\n",
    "    main()\n"
   ]
  },
  {
   "cell_type": "code",
   "execution_count": 29,
   "id": "bcb2be24-8342-497f-8281-ad7202dab224",
   "metadata": {},
   "outputs": [
    {
     "name": "stdout",
     "output_type": "stream",
     "text": [
      "Mảng ban đầu: [40, 15, 75, 30, 23, 12, 35]\n",
      "Mảng sau khi sắp xếp Selection Sort: [12, 15, 23, 30, 35, 40, 75]\n"
     ]
    }
   ],
   "source": [
    "def selection_sort(a):\n",
    "    n = len(a)\n",
    "    for i in range(n - 1):\n",
    "        min_index = i\n",
    "        for j in range(i + 1, n):\n",
    "            if a[j] < a[min_index]:\n",
    "                min_index = j\n",
    "        if min_index != i:\n",
    "            a[i], a[min_index] = a[min_index], a[i]  # Hoán đổi\n",
    "    return a\n",
    "\n",
    "# Mảng ban đầu\n",
    "A = [40, 15, 75, 30, 23, 12, 35]\n",
    "print(\"Mảng ban đầu:\", A)\n",
    "\n",
    "# Sắp xếp\n",
    "selection_sort(A)\n",
    "print(\"Mảng sau khi sắp xếp Selection Sort:\", A)\n"
   ]
  },
  {
   "cell_type": "code",
   "execution_count": 31,
   "id": "01cb4fa3-8d42-49ed-89a7-5e20b7ec5fef",
   "metadata": {},
   "outputs": [
    {
     "name": "stdout",
     "output_type": "stream",
     "text": [
      "Danh sách ban đầu: [79, 63, 60, 4, 71, 8, 73, 6, 77, 92, 24, 78, 27, 41, 42]\n",
      "Danh sách sau khi sắp xếp (Selection Sort): [4, 6, 8, 24, 27, 41, 42, 60, 63, 71, 73, 77, 78, 79, 92]\n"
     ]
    }
   ],
   "source": [
    "import random\n",
    "\n",
    "def selection_sort(a):\n",
    "    n = len(a)\n",
    "    for i in range(n - 1):\n",
    "        min_index = i\n",
    "        for j in range(i + 1, n):\n",
    "            if a[j] < a[min_index]:\n",
    "                min_index = j\n",
    "        if min_index != i:\n",
    "            a[i], a[min_index] = a[min_index], a[i]  # Hoán đổi\n",
    "    return a\n",
    "\n",
    "def main():\n",
    "    # Bước 1: Tạo danh sách 15 số nguyên ngẫu nhiên trong khoảng từ 0 đến 99\n",
    "    danh_sach = [random.randint(0, 99) for _ in range(15)]\n",
    "    print(\"Danh sách ban đầu:\", danh_sach)\n",
    "\n",
    "    # Bước 2: Sắp xếp bằng thuật toán Selection Sort\n",
    "    selection_sort(danh_sach)\n",
    "\n",
    "    # Bước 3: In ra danh sách sau khi sắp xếp\n",
    "    print(\"Danh sách sau khi sắp xếp (Selection Sort):\", danh_sach)\n",
    "\n",
    "if __name__ == \"__main__\":\n",
    "    main()\n"
   ]
  },
  {
   "cell_type": "code",
   "execution_count": 33,
   "id": "579f4167-8199-4907-b36b-9238b6cad98b",
   "metadata": {},
   "outputs": [
    {
     "name": "stdout",
     "output_type": "stream",
     "text": [
      "Mảng ban đầu: [4, 25, 17, 30, 22, 2, 36]\n",
      "Mảng sau khi sắp xếp bằng Insertion Sort: [2, 4, 17, 22, 25, 30, 36]\n"
     ]
    }
   ],
   "source": [
    "def insertion_sort(a):\n",
    "    for i in range(1, len(a)):\n",
    "        key = a[i]\n",
    "        j = i - 1\n",
    "        # Di chuyển phần tử lớn hơn key về phía sau\n",
    "        while j >= 0 and a[j] > key:\n",
    "            a[j + 1] = a[j]\n",
    "            j -= 1\n",
    "        a[j + 1] = key\n",
    "    return a\n",
    "\n",
    "# Bài 1\n",
    "A = [4, 25, 17, 30, 22, 2, 36]\n",
    "print(\"Mảng ban đầu:\", A)\n",
    "insertion_sort(A)\n",
    "print(\"Mảng sau khi sắp xếp bằng Insertion Sort:\", A)\n"
   ]
  },
  {
   "cell_type": "code",
   "execution_count": 35,
   "id": "633851ad-3397-4c06-afb3-b9c5d76e372d",
   "metadata": {},
   "outputs": [
    {
     "name": "stdout",
     "output_type": "stream",
     "text": [
      "Danh sách ban đầu: [71, 99, 33, 5, 96, 94, 58, 7, 86, 83, 38, 30, 61, 85, 92]\n",
      "Danh sách sau khi sắp xếp bằng Insertion Sort: [5, 7, 30, 33, 38, 58, 61, 71, 83, 85, 86, 92, 94, 96, 99]\n"
     ]
    }
   ],
   "source": [
    "import random\n",
    "\n",
    "def insertion_sort(a):\n",
    "    for i in range(1, len(a)):\n",
    "        key = a[i]\n",
    "        j = i - 1\n",
    "        while j >= 0 and a[j] > key:\n",
    "            a[j + 1] = a[j]\n",
    "            j -= 1\n",
    "        a[j + 1] = key\n",
    "    return a\n",
    "\n",
    "def main():\n",
    "    # Sinh ngẫu nhiên 15 số nguyên từ 0 đến 99\n",
    "    danh_sach = [random.randint(0, 99) for _ in range(15)]\n",
    "    print(\"Danh sách ban đầu:\", danh_sach)\n",
    "\n",
    "    # Sắp xếp bằng Insertion Sort\n",
    "    insertion_sort(danh_sach)\n",
    "    print(\"Danh sách sau khi sắp xếp bằng Insertion Sort:\", danh_sach)\n",
    "\n",
    "if __name__ == \"__main__\":\n",
    "    main()\n"
   ]
  },
  {
   "cell_type": "code",
   "execution_count": 37,
   "id": "4044f4ec-acf3-4b6c-85c9-a4a099b3f00a",
   "metadata": {},
   "outputs": [
    {
     "name": "stdout",
     "output_type": "stream",
     "text": [
      "== BÀI 1 ==\n"
     ]
    },
    {
     "ename": "NameError",
     "evalue": "name 'Node' is not defined",
     "output_type": "error",
     "traceback": [
      "\u001b[1;31m---------------------------------------------------------------------------\u001b[0m",
      "\u001b[1;31mNameError\u001b[0m                                 Traceback (most recent call last)",
      "Cell \u001b[1;32mIn[37], line 54\u001b[0m\n\u001b[0;32m     50\u001b[0m     in_theo_muc(cay)\n\u001b[0;32m     53\u001b[0m \u001b[38;5;28;01mif\u001b[39;00m \u001b[38;5;18m__name__\u001b[39m \u001b[38;5;241m==\u001b[39m \u001b[38;5;124m\"\u001b[39m\u001b[38;5;124m__main__\u001b[39m\u001b[38;5;124m\"\u001b[39m:\n\u001b[1;32m---> 54\u001b[0m     chay_bai_1()\n\u001b[0;32m     55\u001b[0m     chay_bai_2()\n",
      "Cell \u001b[1;32mIn[37], line 32\u001b[0m, in \u001b[0;36mchay_bai_1\u001b[1;34m()\u001b[0m\n\u001b[0;32m     30\u001b[0m \u001b[38;5;28;01mdef\u001b[39;00m \u001b[38;5;21mchay_bai_1\u001b[39m():\n\u001b[0;32m     31\u001b[0m     \u001b[38;5;28mprint\u001b[39m(\u001b[38;5;124m\"\u001b[39m\u001b[38;5;124m== BÀI 1 ==\u001b[39m\u001b[38;5;124m\"\u001b[39m)\n\u001b[1;32m---> 32\u001b[0m     cay \u001b[38;5;241m=\u001b[39m tao_cay_bai_1()\n\u001b[0;32m     33\u001b[0m     x \u001b[38;5;241m=\u001b[39m \u001b[38;5;241m22\u001b[39m\n\u001b[0;32m     34\u001b[0m     \u001b[38;5;28;01mif\u001b[39;00m tim_kiem_node(cay, x):\n",
      "Cell \u001b[1;32mIn[37], line 2\u001b[0m, in \u001b[0;36mtao_cay_bai_1\u001b[1;34m()\u001b[0m\n\u001b[0;32m      1\u001b[0m \u001b[38;5;28;01mdef\u001b[39;00m \u001b[38;5;21mtao_cay_bai_1\u001b[39m():\n\u001b[1;32m----> 2\u001b[0m     root \u001b[38;5;241m=\u001b[39m Node(\u001b[38;5;241m30\u001b[39m)\n\u001b[0;32m      3\u001b[0m     root\u001b[38;5;241m.\u001b[39mleft \u001b[38;5;241m=\u001b[39m Node(\u001b[38;5;241m20\u001b[39m)\n\u001b[0;32m      4\u001b[0m     root\u001b[38;5;241m.\u001b[39mright \u001b[38;5;241m=\u001b[39m Node(\u001b[38;5;241m40\u001b[39m)\n",
      "\u001b[1;31mNameError\u001b[0m: name 'Node' is not defined"
     ]
    }
   ],
   "source": [
    "import math \n",
    "def tao_cay_bai_1():\n",
    "    root = Node(30)\n",
    "    root.left = Node(20)\n",
    "    root.right = Node(40)\n",
    "    root.left.left = Node(10)\n",
    "    root.left.right = Node(24)\n",
    "    root.left.left.left = Node(6)\n",
    "    root.left.left.right = Node(14)\n",
    "    root.left.right.right = Node(22)\n",
    "    root.right.left = Node(34)\n",
    "    root.right.right = Node(46)\n",
    "    root.right.left.right = Node(27)\n",
    "    return root\n",
    "\n",
    "def tao_cay_bai_2():\n",
    "    root = Node(70)\n",
    "    root.left = Node(65)\n",
    "    root.right = Node(75)\n",
    "    root.left.left = Node(40)\n",
    "    root.left.right = Node(72)\n",
    "    root.left.left.left = Node(36)\n",
    "    root.left.left.right = Node(54)\n",
    "    root.left.right.right = Node(48)\n",
    "    root.left.right.right.right = Node(45)\n",
    "    root.right.left = Node(58)\n",
    "    root.right.right = Node(88)\n",
    "    root.right.right.right = Node(90)\n",
    "    return root\n",
    "\n",
    "def chay_bai_1():\n",
    "    print(\"== BÀI 1 ==\")\n",
    "    cay = tao_cay_bai_1()\n",
    "    x = 22\n",
    "    if tim_kiem_node(cay, x):\n",
    "        print(f\"Tìm thấy giá trị {x} trong cây.\")\n",
    "    else:\n",
    "        print(f\"Không tìm thấy giá trị {x}.\")\n",
    "    print(\"In cây theo từng mức:\")\n",
    "    in_theo_muc(cay)\n",
    "\n",
    "def chay_bai_2():\n",
    "    print(\"\\n== BÀI 2 ==\")\n",
    "    cay = tao_cay_bai_2()\n",
    "    x = 47\n",
    "    if tim_kiem_node(cay, x):\n",
    "        print(f\"Tìm thấy giá trị {x} trong cây.\")\n",
    "    else:\n",
    "        print(f\"Không tìm thấy giá trị {x}.\")\n",
    "    print(\"In cây theo từng mức:\")\n",
    "    in_theo_muc(cay)\n",
    "\n",
    "\n",
    "if __name__ == \"__main__\":\n",
    "    chay_bai_1()\n",
    "    chay_bai_2()\n"
   ]
  },
  {
   "cell_type": "code",
   "execution_count": null,
   "id": "c4da00a7-9e46-43b5-aab3-6ee3314a4cd7",
   "metadata": {},
   "outputs": [],
   "source": []
  }
 ],
 "metadata": {
  "kernelspec": {
   "display_name": "Python 3 (ipykernel)",
   "language": "python",
   "name": "python3"
  },
  "language_info": {
   "codemirror_mode": {
    "name": "ipython",
    "version": 3
   },
   "file_extension": ".py",
   "mimetype": "text/x-python",
   "name": "python",
   "nbconvert_exporter": "python",
   "pygments_lexer": "ipython3",
   "version": "3.12.7"
  }
 },
 "nbformat": 4,
 "nbformat_minor": 5
}
